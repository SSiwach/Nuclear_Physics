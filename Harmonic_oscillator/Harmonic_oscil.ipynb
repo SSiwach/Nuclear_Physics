{
  "nbformat": 4,
  "nbformat_minor": 0,
  "metadata": {
    "colab": {
      "provenance": []
    },
    "kernelspec": {
      "name": "python3",
      "display_name": "Python 3"
    },
    "language_info": {
      "name": "python"
    }
  },
  "cells": [
    {
      "cell_type": "code",
      "execution_count": 24,
      "metadata": {
        "id": "kjpkdvHMFDCH"
      },
      "outputs": [],
      "source": [
        "# Surender Siwach\n",
        "# surender@bhu.ac.in\n",
        "\n",
        "\n",
        "import numpy as np\n",
        "from scipy.special import gamma, assoc_laguerre\n",
        "from scipy.constants import physical_constants\n",
        "from sympy import N\n",
        "from sympy.physics.wigner import wigner_3j, wigner_9j\n",
        "\n",
        "#Harmonic oscillator wavefunction\n",
        "\n",
        "def HO_radial(r, n, l, hw):\n",
        "  hc = physical_constants['reduced Planck constant times c in MeV fm'][0]\n",
        "  m_n = physical_constants['neutron mass energy equivalent in MeV'][0]\n",
        "  m_p = physical_constants['proton mass energy equivalent in MeV'][0]\n",
        "  m_nucl = (m_p + m_n)*0.5\n",
        "  b = np.sqrt(hc**2/(m_nucl*hw))\n",
        "  x = r/b\n",
        "  prefactor = np.sqrt(2.0/b)*(gamma(n+1)/gamma(n+l+1.5))\n",
        "  return prefactor*(1.0/b)*(x**l)*np.exp(-0.5*x*x)*assoc_laguerre(x*x,n, l+0.5)\n",
        "\n",
        "# Reduced spherical Haramonics\n",
        "\n",
        "def Y_red(l1, l2, l):\n",
        "  return (-1) ** l1 * np.sqrt((2 * l1 + 1) * (2 * l2 + 1) * (2 * l + 1) / (4 * np.pi)) * N(wigner_3j(l1, l, l2, 0, 0, 0))\n",
        "\n",
        "# Matrix element for (Y_1 sigma_s)_k operator\n",
        "\n",
        "def Ysigma(l1, j1, l2, j2, l, s, k):\n",
        "  sfact = np.sqrt(2.0)\n",
        "  if s==1:\n",
        "    sfact = np.sqrt(6.0)\n",
        "  wigner_9j_val = N(wigner_9j(l1, 0.5, j1, l2, 0.5, j2, l, s, k, prec=8))\n",
        "  return np.sqrt(float((2 * j1 + 1) * (2 * j2 + 1) * (2 * k + 1))) * wigner_9j_val * Y_red(l1, l2, l) * sfact\n"
      ]
    },
    {
      "cell_type": "code",
      "source": [
        "if __name__ == \"__main__\":\n",
        "  #Example\n",
        "\n",
        "  print(\"Harmonic Oscillator radial :\", HO_radial(0.5, 0, 0, 20))\n",
        "\n",
        "  print(\"Matrix Element : \" , Ysigma(0, 0.5, 0, 0.5, 0, 1, 1))"
      ],
      "metadata": {
        "colab": {
          "base_uri": "https://localhost:8080/"
        },
        "id": "jx2t8kJNL0c9",
        "outputId": "264e6a70-ce92-4a10-eb43-2fe65ca49c83"
      },
      "execution_count": 26,
      "outputs": [
        {
          "output_type": "stream",
          "name": "stdout",
          "text": [
            "Harmonic Oscillator radial : 0.869467336297373\n",
            "Matrix Element :  0.690988296572340\n"
          ]
        }
      ]
    }
  ]
}